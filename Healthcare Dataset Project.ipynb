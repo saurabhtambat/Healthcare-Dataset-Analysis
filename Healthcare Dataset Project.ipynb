{
 "cells": [
  {
   "cell_type": "markdown",
   "id": "cfb8ab5a",
   "metadata": {},
   "source": [
    "# Data Description: Healthcare Dataset"
   ]
  },
  {
   "cell_type": "markdown",
   "id": "23aebe0e",
   "metadata": {},
   "source": [
    "This dataset contains information about patients admitted to a hospital, including demographic details, medical conditions, treatments, and billing information. The dataset comprises the following columns:\n",
    "\n",
    "1.Name: Names of the patients admitted to the hospital.\n",
    "\n",
    "2.Age: Age of the patients at the time of admission.\n",
    "\n",
    "3.Gender: Gender of the patients (e.g., male, female).\n",
    "\n",
    "4.Blood Type: Blood type of the patients.\n",
    "\n",
    "5.Medical Condition: Description of the medical condition or diagnosis for which the patient is admitted.\n",
    "\n",
    "6.Date of Admission: Date when the patient was admitted to the hospital.\n",
    "\n",
    "7.Doctor: Name or identifier of the doctor responsible for the patient's care.\n",
    "\n",
    "8.Hospital: Name or identifier of the hospital where the patient is admitted.\n",
    "\n",
    "9.Insurance Provider: Name of the insurance provider covering the patient's medical expenses.\n",
    "\n",
    "10.Billing Amount: Amount billed to the patient or their insurance provider for medical services received during the hospital stay.\n",
    "\n",
    "11.Room Number: Identifier of the room where the patient is accommodated.\n",
    "\n",
    "12.Admission Type: Type of admission, such as emergency, elective, or transfer.\n",
    "\n",
    "13.Discharge Date: Date when the patient was discharged from the hospital.\n",
    "\n",
    "14.Medication: List of medications prescribed to the patient during their hospitalization.\n",
    "\n",
    "15.Test Results: Results of medical tests conducted on the patient during their hospital stay.\n",
    "\n",
    "This dataset provides valuable insights into patient demographics, medical conditions, treatment patterns, and hospital operations. It can be used for various analyses, including patient outcome prediction, resource allocation optimization, and healthcare quality improvement initiatives."
   ]
  },
  {
   "cell_type": "markdown",
   "id": "c0c859d6",
   "metadata": {},
   "source": [
    "# Importing Libraries"
   ]
  },
  {
   "cell_type": "code",
   "execution_count": 32,
   "id": "ea2f1a22",
   "metadata": {},
   "outputs": [],
   "source": [
    "import warnings\n",
    "warnings.filterwarnings('ignore')"
   ]
  },
  {
   "cell_type": "code",
   "execution_count": 33,
   "id": "a4364288",
   "metadata": {},
   "outputs": [],
   "source": [
    "import numpy as np\n",
    "import pandas as pd \n",
    "import matplotlib.pyplot as plt\n",
    "import seaborn as sns\n"
   ]
  },
  {
   "cell_type": "code",
   "execution_count": 4,
   "id": "53d140c6",
   "metadata": {},
   "outputs": [
    {
     "data": {
      "text/html": [
       "<div>\n",
       "<style scoped>\n",
       "    .dataframe tbody tr th:only-of-type {\n",
       "        vertical-align: middle;\n",
       "    }\n",
       "\n",
       "    .dataframe tbody tr th {\n",
       "        vertical-align: top;\n",
       "    }\n",
       "\n",
       "    .dataframe thead th {\n",
       "        text-align: right;\n",
       "    }\n",
       "</style>\n",
       "<table border=\"1\" class=\"dataframe\">\n",
       "  <thead>\n",
       "    <tr style=\"text-align: right;\">\n",
       "      <th></th>\n",
       "      <th>Name</th>\n",
       "      <th>Age</th>\n",
       "      <th>Gender</th>\n",
       "      <th>Blood Type</th>\n",
       "      <th>Medical Condition</th>\n",
       "      <th>Date of Admission</th>\n",
       "      <th>Doctor</th>\n",
       "      <th>Hospital</th>\n",
       "      <th>Insurance Provider</th>\n",
       "      <th>Billing Amount</th>\n",
       "      <th>Room Number</th>\n",
       "      <th>Admission Type</th>\n",
       "      <th>Discharge Date</th>\n",
       "      <th>Medication</th>\n",
       "      <th>Test Results</th>\n",
       "    </tr>\n",
       "  </thead>\n",
       "  <tbody>\n",
       "    <tr>\n",
       "      <th>0</th>\n",
       "      <td>Bobby JacksOn</td>\n",
       "      <td>30</td>\n",
       "      <td>Male</td>\n",
       "      <td>B-</td>\n",
       "      <td>Cancer</td>\n",
       "      <td>31-01-2024</td>\n",
       "      <td>Matthew Smith</td>\n",
       "      <td>Sons and Miller</td>\n",
       "      <td>Blue Cross</td>\n",
       "      <td>18856.28131</td>\n",
       "      <td>328</td>\n",
       "      <td>Urgent</td>\n",
       "      <td>02-02-2024</td>\n",
       "      <td>Paracetamol</td>\n",
       "      <td>Normal</td>\n",
       "    </tr>\n",
       "    <tr>\n",
       "      <th>1</th>\n",
       "      <td>LesLie TErRy</td>\n",
       "      <td>62</td>\n",
       "      <td>Male</td>\n",
       "      <td>A+</td>\n",
       "      <td>Obesity</td>\n",
       "      <td>20-08-2019</td>\n",
       "      <td>Samantha Davies</td>\n",
       "      <td>Kim Inc</td>\n",
       "      <td>Medicare</td>\n",
       "      <td>33643.32729</td>\n",
       "      <td>265</td>\n",
       "      <td>Emergency</td>\n",
       "      <td>26-08-2019</td>\n",
       "      <td>Ibuprofen</td>\n",
       "      <td>Inconclusive</td>\n",
       "    </tr>\n",
       "    <tr>\n",
       "      <th>2</th>\n",
       "      <td>DaNnY sMitH</td>\n",
       "      <td>76</td>\n",
       "      <td>Female</td>\n",
       "      <td>A-</td>\n",
       "      <td>Obesity</td>\n",
       "      <td>22-09-2022</td>\n",
       "      <td>Tiffany Mitchell</td>\n",
       "      <td>Cook PLC</td>\n",
       "      <td>Aetna</td>\n",
       "      <td>27955.09608</td>\n",
       "      <td>205</td>\n",
       "      <td>Emergency</td>\n",
       "      <td>07-10-2022</td>\n",
       "      <td>Aspirin</td>\n",
       "      <td>Normal</td>\n",
       "    </tr>\n",
       "    <tr>\n",
       "      <th>3</th>\n",
       "      <td>andrEw waTtS</td>\n",
       "      <td>28</td>\n",
       "      <td>Female</td>\n",
       "      <td>O+</td>\n",
       "      <td>Diabetes</td>\n",
       "      <td>18-11-2020</td>\n",
       "      <td>Kevin Wells</td>\n",
       "      <td>Hernandez Rogers and Vang,</td>\n",
       "      <td>Medicare</td>\n",
       "      <td>37909.78241</td>\n",
       "      <td>450</td>\n",
       "      <td>Elective</td>\n",
       "      <td>18-12-2020</td>\n",
       "      <td>Ibuprofen</td>\n",
       "      <td>Abnormal</td>\n",
       "    </tr>\n",
       "    <tr>\n",
       "      <th>4</th>\n",
       "      <td>adrIENNE bEll</td>\n",
       "      <td>43</td>\n",
       "      <td>Female</td>\n",
       "      <td>AB+</td>\n",
       "      <td>Cancer</td>\n",
       "      <td>19-09-2022</td>\n",
       "      <td>Kathleen Hanna</td>\n",
       "      <td>White-White</td>\n",
       "      <td>Aetna</td>\n",
       "      <td>14238.31781</td>\n",
       "      <td>458</td>\n",
       "      <td>Urgent</td>\n",
       "      <td>09-10-2022</td>\n",
       "      <td>Penicillin</td>\n",
       "      <td>Abnormal</td>\n",
       "    </tr>\n",
       "  </tbody>\n",
       "</table>\n",
       "</div>"
      ],
      "text/plain": [
       "            Name  Age  Gender Blood Type Medical Condition Date of Admission  \\\n",
       "0  Bobby JacksOn   30    Male         B-            Cancer        31-01-2024   \n",
       "1   LesLie TErRy   62    Male         A+           Obesity        20-08-2019   \n",
       "2    DaNnY sMitH   76  Female         A-           Obesity        22-09-2022   \n",
       "3   andrEw waTtS   28  Female         O+          Diabetes        18-11-2020   \n",
       "4  adrIENNE bEll   43  Female        AB+            Cancer        19-09-2022   \n",
       "\n",
       "             Doctor                    Hospital Insurance Provider  \\\n",
       "0     Matthew Smith             Sons and Miller         Blue Cross   \n",
       "1   Samantha Davies                     Kim Inc           Medicare   \n",
       "2  Tiffany Mitchell                    Cook PLC              Aetna   \n",
       "3       Kevin Wells  Hernandez Rogers and Vang,           Medicare   \n",
       "4    Kathleen Hanna                 White-White              Aetna   \n",
       "\n",
       "   Billing Amount  Room Number Admission Type Discharge Date   Medication  \\\n",
       "0     18856.28131          328         Urgent     02-02-2024  Paracetamol   \n",
       "1     33643.32729          265      Emergency     26-08-2019    Ibuprofen   \n",
       "2     27955.09608          205      Emergency     07-10-2022      Aspirin   \n",
       "3     37909.78241          450       Elective     18-12-2020    Ibuprofen   \n",
       "4     14238.31781          458         Urgent     09-10-2022   Penicillin   \n",
       "\n",
       "   Test Results  \n",
       "0        Normal  \n",
       "1  Inconclusive  \n",
       "2        Normal  \n",
       "3      Abnormal  \n",
       "4      Abnormal  "
      ]
     },
     "execution_count": 4,
     "metadata": {},
     "output_type": "execute_result"
    }
   ],
   "source": [
    "df=pd.read_csv(r\"C:\\Users\\tamba\\OneDrive\\Desktop\\Datasets\\healthcare_dataset.csv\")\n",
    "df.head()"
   ]
  },
  {
   "cell_type": "markdown",
   "id": "88173aab",
   "metadata": {},
   "source": [
    "# EDA"
   ]
  },
  {
   "cell_type": "code",
   "execution_count": 4,
   "id": "f65cbcc5",
   "metadata": {},
   "outputs": [
    {
     "name": "stdout",
     "output_type": "stream",
     "text": [
      "<class 'pandas.core.frame.DataFrame'>\n",
      "RangeIndex: 55500 entries, 0 to 55499\n",
      "Data columns (total 15 columns):\n",
      " #   Column              Non-Null Count  Dtype  \n",
      "---  ------              --------------  -----  \n",
      " 0   Name                55500 non-null  object \n",
      " 1   Age                 55500 non-null  int64  \n",
      " 2   Gender              55500 non-null  object \n",
      " 3   Blood Type          55500 non-null  object \n",
      " 4   Medical Condition   55500 non-null  object \n",
      " 5   Date of Admission   55500 non-null  object \n",
      " 6   Doctor              55500 non-null  object \n",
      " 7   Hospital            55500 non-null  object \n",
      " 8   Insurance Provider  55500 non-null  object \n",
      " 9   Billing Amount      55500 non-null  float64\n",
      " 10  Room Number         55500 non-null  int64  \n",
      " 11  Admission Type      55500 non-null  object \n",
      " 12  Discharge Date      55500 non-null  object \n",
      " 13  Medication          55500 non-null  object \n",
      " 14  Test Results        55500 non-null  object \n",
      "dtypes: float64(1), int64(2), object(12)\n",
      "memory usage: 6.4+ MB\n"
     ]
    }
   ],
   "source": [
    "df.info()"
   ]
  },
  {
   "cell_type": "code",
   "execution_count": 5,
   "id": "97431b4e",
   "metadata": {},
   "outputs": [
    {
     "data": {
      "text/html": [
       "<div>\n",
       "<style scoped>\n",
       "    .dataframe tbody tr th:only-of-type {\n",
       "        vertical-align: middle;\n",
       "    }\n",
       "\n",
       "    .dataframe tbody tr th {\n",
       "        vertical-align: top;\n",
       "    }\n",
       "\n",
       "    .dataframe thead th {\n",
       "        text-align: right;\n",
       "    }\n",
       "</style>\n",
       "<table border=\"1\" class=\"dataframe\">\n",
       "  <thead>\n",
       "    <tr style=\"text-align: right;\">\n",
       "      <th></th>\n",
       "      <th>count</th>\n",
       "      <th>mean</th>\n",
       "      <th>std</th>\n",
       "      <th>min</th>\n",
       "      <th>25%</th>\n",
       "      <th>50%</th>\n",
       "      <th>75%</th>\n",
       "      <th>max</th>\n",
       "    </tr>\n",
       "  </thead>\n",
       "  <tbody>\n",
       "    <tr>\n",
       "      <th>Age</th>\n",
       "      <td>55500.0</td>\n",
       "      <td>51.539459</td>\n",
       "      <td>19.602454</td>\n",
       "      <td>13.00000</td>\n",
       "      <td>35.000000</td>\n",
       "      <td>52.00000</td>\n",
       "      <td>68.000000</td>\n",
       "      <td>89.00000</td>\n",
       "    </tr>\n",
       "    <tr>\n",
       "      <th>Billing Amount</th>\n",
       "      <td>55500.0</td>\n",
       "      <td>25539.316097</td>\n",
       "      <td>14211.454431</td>\n",
       "      <td>-2008.49214</td>\n",
       "      <td>13241.224655</td>\n",
       "      <td>25538.06938</td>\n",
       "      <td>37820.508432</td>\n",
       "      <td>52764.27674</td>\n",
       "    </tr>\n",
       "    <tr>\n",
       "      <th>Room Number</th>\n",
       "      <td>55500.0</td>\n",
       "      <td>301.134829</td>\n",
       "      <td>115.243069</td>\n",
       "      <td>101.00000</td>\n",
       "      <td>202.000000</td>\n",
       "      <td>302.00000</td>\n",
       "      <td>401.000000</td>\n",
       "      <td>500.00000</td>\n",
       "    </tr>\n",
       "  </tbody>\n",
       "</table>\n",
       "</div>"
      ],
      "text/plain": [
       "                  count          mean           std         min           25%  \\\n",
       "Age             55500.0     51.539459     19.602454    13.00000     35.000000   \n",
       "Billing Amount  55500.0  25539.316097  14211.454431 -2008.49214  13241.224655   \n",
       "Room Number     55500.0    301.134829    115.243069   101.00000    202.000000   \n",
       "\n",
       "                        50%           75%          max  \n",
       "Age                52.00000     68.000000     89.00000  \n",
       "Billing Amount  25538.06938  37820.508432  52764.27674  \n",
       "Room Number       302.00000    401.000000    500.00000  "
      ]
     },
     "execution_count": 5,
     "metadata": {},
     "output_type": "execute_result"
    }
   ],
   "source": [
    "df.describe().T"
   ]
  },
  {
   "cell_type": "code",
   "execution_count": 29,
   "id": "e675f9b1",
   "metadata": {},
   "outputs": [
    {
     "data": {
      "text/plain": [
       "534"
      ]
     },
     "execution_count": 29,
     "metadata": {},
     "output_type": "execute_result"
    }
   ],
   "source": [
    "df.duplicated().sum()"
   ]
  },
  {
   "cell_type": "code",
   "execution_count": 41,
   "id": "c4d3fada",
   "metadata": {},
   "outputs": [
    {
     "data": {
      "text/plain": [
       "(55500, 15)"
      ]
     },
     "execution_count": 41,
     "metadata": {},
     "output_type": "execute_result"
    }
   ],
   "source": [
    "df.shape"
   ]
  },
  {
   "cell_type": "code",
   "execution_count": 6,
   "id": "46736b1c",
   "metadata": {},
   "outputs": [
    {
     "data": {
      "text/plain": [
       "Name                  0\n",
       "Age                   0\n",
       "Gender                0\n",
       "Blood Type            0\n",
       "Medical Condition     0\n",
       "Date of Admission     0\n",
       "Doctor                0\n",
       "Hospital              0\n",
       "Insurance Provider    0\n",
       "Billing Amount        0\n",
       "Room Number           0\n",
       "Admission Type        0\n",
       "Discharge Date        0\n",
       "Medication            0\n",
       "Test Results          0\n",
       "dtype: int64"
      ]
     },
     "execution_count": 6,
     "metadata": {},
     "output_type": "execute_result"
    }
   ],
   "source": [
    "df.isnull().sum()"
   ]
  },
  {
   "cell_type": "markdown",
   "id": "d69f7cb7",
   "metadata": {},
   "source": [
    "# Numerical Column Distribution"
   ]
  },
  {
   "cell_type": "code",
   "execution_count": 7,
   "id": "fa060ef7",
   "metadata": {},
   "outputs": [
    {
     "data": {
      "image/png": "[encoded data removed]",
      "text/plain": [
       "<Figure size 1500x600 with 4 Axes>"
      ]
     },
     "metadata": {},
     "output_type": "display_data"
    }
   ],
   "source": [
    "numerical_cols = ['Age', 'Billing Amount','Room Number']\n",
    "\n",
    "sns.set(style=\"whitegrid\", palette=\"rocket\")\n",
    "\n",
    "df[numerical_cols].hist(bins=20, figsize=(15, 6), edgecolor='black')\n",
    "plt.suptitle('Distribution of Numerical Variables', y=1.02, fontsize=16)\n",
    "plt.show()"
   ]
  },
  {
   "cell_type": "markdown",
   "id": "de6826c4",
   "metadata": {},
   "source": [
    "# Cateogorical Column Distribution"
   ]
  },
  {
   "cell_type": "code",
   "execution_count": 15,
   "id": "b3423e79",
   "metadata": {},
   "outputs": [],
   "source": [
    "categorical_cols = ['Gender', 'Blood Type', 'Medical Condition', 'Doctor', 'Hospital', 'Insurance Provider',\n",
    "                     'Admission Type', 'Medication', 'Test Results']\n",
    "count=[]\n",
    "sns.set(style=\"whitegrid\", palette=\"rocket\")\n",
    "for i in categorical_cols :\n",
    "    counts = df[i].value_counts()\n",
    "    c=count.append(counts)\n"
   ]
  },
  {
   "cell_type": "code",
   "execution_count": 21,
   "id": "ab824b23",
   "metadata": {},
   "outputs": [
    {
     "name": "stdout",
     "output_type": "stream",
     "text": [
      "[Gender\n",
      "Male      27774\n",
      "Female    27726\n",
      "Name: count, dtype: int64, Blood Type\n",
      "A-     6969\n",
      "A+     6956\n",
      "AB+    6947\n",
      "AB-    6945\n",
      "B+     6945\n",
      "B-     6944\n",
      "O+     6917\n",
      "O-     6877\n",
      "Name: count, dtype: int64, Medical Condition\n",
      "Arthritis       9308\n",
      "Diabetes        9304\n",
      "Hypertension    9245\n",
      "Obesity         9231\n",
      "Cancer          9227\n",
      "Asthma          9185\n",
      "Name: count, dtype: int64, Doctor\n",
      "Michael Smith           27\n",
      "Robert Smith            22\n",
      "John Smith              22\n",
      "Michael Johnson         20\n",
      "James Smith             20\n",
      "                        ..\n",
      "Audrey Zimmerman DDS     1\n",
      "Justin Banks             1\n",
      "Joseph Williams Jr.      1\n",
      "Jason Franklin           1\n",
      "Jeffrey Moore            1\n",
      "Name: count, Length: 40341, dtype: int64, Hospital\n",
      "LLC Smith                      44\n",
      "Ltd Smith                      39\n",
      "Johnson PLC                    38\n",
      "Smith Ltd                      37\n",
      "Smith PLC                      36\n",
      "                               ..\n",
      "and Montoya Flores, Boyer       1\n",
      "Carter and Dunn King,           1\n",
      "Hall, Brown Black and           1\n",
      "Peterson Scott and Thomas,      1\n",
      "Moreno Murphy, Griffith and     1\n",
      "Name: count, Length: 39876, dtype: int64, Insurance Provider\n",
      "Cigna               11249\n",
      "Medicare            11154\n",
      "UnitedHealthcare    11125\n",
      "Blue Cross          11059\n",
      "Aetna               10913\n",
      "Name: count, dtype: int64, Admission Type\n",
      "Elective     18655\n",
      "Urgent       18576\n",
      "Emergency    18269\n",
      "Name: count, dtype: int64, Medication\n",
      "Lipitor        11140\n",
      "Ibuprofen      11127\n",
      "Aspirin        11094\n",
      "Paracetamol    11071\n",
      "Penicillin     11068\n",
      "Name: count, dtype: int64, Test Results\n",
      "Abnormal        18627\n",
      "Normal          18517\n",
      "Inconclusive    18356\n",
      "Name: count, dtype: int64]\n"
     ]
    }
   ],
   "source": [
    "print(count)"
   ]
  },
  {
   "cell_type": "code",
   "execution_count": 24,
   "id": "310b1799",
   "metadata": {},
   "outputs": [
    {
     "data": {
      "text/plain": [
       "\"for i in categorical_cols:\\n    for j in count:\\n        plt.bar(categorical_cols, c)\\n        plt.suptitle('Distribution of categorical_cols', y=1.02, fontsize=16)\\n        plt.show() \""
      ]
     },
     "execution_count": 24,
     "metadata": {},
     "output_type": "execute_result"
    }
   ],
   "source": [
    "'''for i in categorical_cols:\n",
    "    for j in count:\n",
    "        plt.bar(categorical_cols, c)\n",
    "        plt.suptitle('Distribution of categorical_cols', y=1.02, fontsize=16)\n",
    "        plt.show() '''"
   ]
  },
  {
   "cell_type": "markdown",
   "id": "9d999508",
   "metadata": {},
   "source": [
    "## Are the Patient mostly male or female?"
   ]
  },
  {
   "cell_type": "code",
   "execution_count": 31,
   "id": "978fe4f1",
   "metadata": {
    "scrolled": true
   },
   "outputs": [
    {
     "name": "stdout",
     "output_type": "stream",
     "text": [
      "Gender\n",
      "Male      27774\n",
      "Female    27726\n",
      "Name: count, dtype: int64\n"
     ]
    },
    {
     "data": {
      "image/png": "[encoded data removed]",
      "text/plain": [
       "<Figure size 640x480 with 1 Axes>"
      ]
     },
     "metadata": {},
     "output_type": "display_data"
    }
   ],
   "source": [
    "print(df['Gender'].value_counts())\n",
    "sns.countplot(x='Gender',data=df)\n",
    "plt.title(\"Distribution of Gender in Healthcare Dataset\")\n",
    "plt.show()"
   ]
  },
  {
   "cell_type": "markdown",
   "id": "0696ae51",
   "metadata": {},
   "source": [
    "## Distribution of Blood Type in Dataset"
   ]
  },
  {
   "cell_type": "code",
   "execution_count": 33,
   "id": "3ad7736b",
   "metadata": {},
   "outputs": [
    {
     "name": "stdout",
     "output_type": "stream",
     "text": [
      "Blood Type\n",
      "A-     6969\n",
      "A+     6956\n",
      "AB+    6947\n",
      "AB-    6945\n",
      "B+     6945\n",
      "B-     6944\n",
      "O+     6917\n",
      "O-     6877\n",
      "Name: count, dtype: int64\n"
     ]
    },
    {
     "data": {
      "image/png": "[encoded data removed]",
      "text/plain": [
       "<Figure size 640x480 with 1 Axes>"
      ]
     },
     "metadata": {},
     "output_type": "display_data"
    }
   ],
   "source": [
    "print(df['Blood Type'].value_counts())\n",
    "sns.countplot(x='Blood Type',data=df)\n",
    "plt.title(\"Distribution of Blood Type in Healthcare Dataset\")\n",
    "plt.show()"
   ]
  },
  {
   "cell_type": "markdown",
   "id": "e7da3125",
   "metadata": {},
   "source": [
    "## Which Medical Condition is more Prominent?"
   ]
  },
  {
   "cell_type": "code",
   "execution_count": 36,
   "id": "ba32a089",
   "metadata": {},
   "outputs": [
    {
     "name": "stdout",
     "output_type": "stream",
     "text": [
      "Medical Condition\n",
      "Arthritis       9308\n",
      "Diabetes        9304\n",
      "Hypertension    9245\n",
      "Obesity         9231\n",
      "Cancer          9227\n",
      "Asthma          9185\n",
      "Name: count, dtype: int64\n"
     ]
    },
    {
     "data": {
      "image/png": "[encoded data removed]",
      "text/plain": [
       "<Figure size 640x480 with 1 Axes>"
      ]
     },
     "metadata": {},
     "output_type": "display_data"
    }
   ],
   "source": [
    "print(df['Medical Condition'].value_counts())\n",
    "sns.countplot(y='Medical Condition',data=df)\n",
    "plt.title(\"Distribution of Medical Condition in Healthcare Dataset\")\n",
    "plt.show()"
   ]
  },
  {
   "cell_type": "markdown",
   "id": "511737c9",
   "metadata": {},
   "source": [
    "## Which type of patient are more admitting?"
   ]
  },
  {
   "cell_type": "code",
   "execution_count": 35,
   "id": "966c9f77",
   "metadata": {},
   "outputs": [
    {
     "name": "stdout",
     "output_type": "stream",
     "text": [
      "Admission Type\n",
      "Elective     18655\n",
      "Urgent       18576\n",
      "Emergency    18269\n",
      "Name: count, dtype: int64\n"
     ]
    },
    {
     "data": {
      "image/png": "[encoded data removed]",
      "text/plain": [
       "<Figure size 640x480 with 1 Axes>"
      ]
     },
     "metadata": {},
     "output_type": "display_data"
    }
   ],
   "source": [
    "print(df['Admission Type'].value_counts())\n",
    "sns.countplot(x='Admission Type',data=df)\n",
    "plt.title(\"Distribution of Admission Type in Healthcare Dataset\")\n",
    "plt.show()"
   ]
  },
  {
   "cell_type": "markdown",
   "id": "a44e7ad4",
   "metadata": {},
   "source": [
    "## Which Medication is mostly given?"
   ]
  },
  {
   "cell_type": "code",
   "execution_count": 38,
   "id": "cb67df44",
   "metadata": {},
   "outputs": [
    {
     "name": "stdout",
     "output_type": "stream",
     "text": [
      "Medication\n",
      "Lipitor        11140\n",
      "Ibuprofen      11127\n",
      "Aspirin        11094\n",
      "Paracetamol    11071\n",
      "Penicillin     11068\n",
      "Name: count, dtype: int64\n"
     ]
    },
    {
     "data": {
      "image/png": "[encoded data removed]",
      "text/plain": [
       "<Figure size 640x480 with 1 Axes>"
      ]
     },
     "metadata": {},
     "output_type": "display_data"
    }
   ],
   "source": [
    "print(df['Medication'].value_counts())\n",
    "sns.countplot(y='Medication',data=df)\n",
    "plt.title(\"Distribution of Medication in Healthcare Dataset\")\n",
    "plt.show()"
   ]
  },
  {
   "cell_type": "markdown",
   "id": "c031face",
   "metadata": {},
   "source": [
    "## Which Test results the patients mostly getting?"
   ]
  },
  {
   "cell_type": "code",
   "execution_count": 40,
   "id": "9e529e2a",
   "metadata": {},
   "outputs": [
    {
     "name": "stdout",
     "output_type": "stream",
     "text": [
      "Test Results\n",
      "Abnormal        18627\n",
      "Normal          18517\n",
      "Inconclusive    18356\n",
      "Name: count, dtype: int64\n"
     ]
    },
    {
     "data": {
      "image/png": "[encoded data removed]",
      "text/plain": [
       "<Figure size 640x480 with 1 Axes>"
      ]
     },
     "metadata": {},
     "output_type": "display_data"
    }
   ],
   "source": [
    "print(df['Test Results'].value_counts())\n",
    "sns.countplot(x='Test Results',data=df)\n",
    "plt.title(\"Distribution of Test Results in Healthcare Dataset\")\n",
    "plt.show()"
   ]
  },
  {
   "cell_type": "markdown",
   "id": "b374969b",
   "metadata": {},
   "source": [
    "# Applying Classification Algorithms"
   ]
  },
  {
   "cell_type": "markdown",
   "id": "7d7eef40",
   "metadata": {},
   "source": [
    "## Feature Engineering"
   ]
  },
  {
   "cell_type": "code",
   "execution_count": null,
   "id": "a3983725",
   "metadata": {},
   "outputs": [],
   "source": [
    "# Removing unuseful columns "
   ]
  },
  {
   "cell_type": "code",
   "execution_count": 6,
   "id": "22eb92b2",
   "metadata": {},
   "outputs": [
    {
     "data": {
      "text/html": [
       "<div>\n",
       "<style scoped>\n",
       "    .dataframe tbody tr th:only-of-type {\n",
       "        vertical-align: middle;\n",
       "    }\n",
       "\n",
       "    .dataframe tbody tr th {\n",
       "        vertical-align: top;\n",
       "    }\n",
       "\n",
       "    .dataframe thead th {\n",
       "        text-align: right;\n",
       "    }\n",
       "</style>\n",
       "<table border=\"1\" class=\"dataframe\">\n",
       "  <thead>\n",
       "    <tr style=\"text-align: right;\">\n",
       "      <th></th>\n",
       "      <th>Age</th>\n",
       "      <th>Gender</th>\n",
       "      <th>Blood Type</th>\n",
       "      <th>Medical Condition</th>\n",
       "      <th>Admission Type</th>\n",
       "      <th>Medication</th>\n",
       "      <th>Test Results</th>\n",
       "    </tr>\n",
       "  </thead>\n",
       "  <tbody>\n",
       "    <tr>\n",
       "      <th>0</th>\n",
       "      <td>30</td>\n",
       "      <td>Male</td>\n",
       "      <td>B-</td>\n",
       "      <td>Cancer</td>\n",
       "      <td>Urgent</td>\n",
       "      <td>Paracetamol</td>\n",
       "      <td>Normal</td>\n",
       "    </tr>\n",
       "    <tr>\n",
       "      <th>1</th>\n",
       "      <td>62</td>\n",
       "      <td>Male</td>\n",
       "      <td>A+</td>\n",
       "      <td>Obesity</td>\n",
       "      <td>Emergency</td>\n",
       "      <td>Ibuprofen</td>\n",
       "      <td>Inconclusive</td>\n",
       "    </tr>\n",
       "    <tr>\n",
       "      <th>2</th>\n",
       "      <td>76</td>\n",
       "      <td>Female</td>\n",
       "      <td>A-</td>\n",
       "      <td>Obesity</td>\n",
       "      <td>Emergency</td>\n",
       "      <td>Aspirin</td>\n",
       "      <td>Normal</td>\n",
       "    </tr>\n",
       "    <tr>\n",
       "      <th>3</th>\n",
       "      <td>28</td>\n",
       "      <td>Female</td>\n",
       "      <td>O+</td>\n",
       "      <td>Diabetes</td>\n",
       "      <td>Elective</td>\n",
       "      <td>Ibuprofen</td>\n",
       "      <td>Abnormal</td>\n",
       "    </tr>\n",
       "    <tr>\n",
       "      <th>4</th>\n",
       "      <td>43</td>\n",
       "      <td>Female</td>\n",
       "      <td>AB+</td>\n",
       "      <td>Cancer</td>\n",
       "      <td>Urgent</td>\n",
       "      <td>Penicillin</td>\n",
       "      <td>Abnormal</td>\n",
       "    </tr>\n",
       "  </tbody>\n",
       "</table>\n",
       "</div>"
      ],
      "text/plain": [
       "   Age  Gender Blood Type Medical Condition Admission Type   Medication  \\\n",
       "0   30    Male         B-            Cancer         Urgent  Paracetamol   \n",
       "1   62    Male         A+           Obesity      Emergency    Ibuprofen   \n",
       "2   76  Female         A-           Obesity      Emergency      Aspirin   \n",
       "3   28  Female         O+          Diabetes       Elective    Ibuprofen   \n",
       "4   43  Female        AB+            Cancer         Urgent   Penicillin   \n",
       "\n",
       "   Test Results  \n",
       "0        Normal  \n",
       "1  Inconclusive  \n",
       "2        Normal  \n",
       "3      Abnormal  \n",
       "4      Abnormal  "
      ]
     },
     "execution_count": 6,
     "metadata": {},
     "output_type": "execute_result"
    }
   ],
   "source": [
    "df = df[[ 'Age', 'Gender', 'Blood Type', 'Medical Condition', 'Admission Type', 'Medication', 'Test Results']]\n",
    "df.head()"
   ]
  },
  {
   "cell_type": "code",
   "execution_count": 7,
   "id": "6eefe499",
   "metadata": {},
   "outputs": [
    {
     "name": "stdout",
     "output_type": "stream",
     "text": [
      "Age 77\n",
      "Gender 2\n",
      "Blood Type 8\n",
      "Medical Condition 6\n",
      "Admission Type 3\n",
      "Medication 5\n",
      "Test Results 3\n"
     ]
    }
   ],
   "source": [
    "for col in df.columns:\n",
    "    print(col, df[col].nunique())"
   ]
  },
  {
   "cell_type": "code",
   "execution_count": 8,
   "id": "8d12bee0",
   "metadata": {},
   "outputs": [],
   "source": [
    "x = df.drop('Test Results',axis=1)\n",
    "y = df['Test Results']"
   ]
  },
  {
   "cell_type": "markdown",
   "id": "ba7009dd",
   "metadata": {},
   "source": [
    "## One hot Encoding"
   ]
  },
  {
   "cell_type": "markdown",
   "id": "ff4f7dc8",
   "metadata": {},
   "source": [
    "Certainly! When dealing with categorical variables in machine learning, it’s essential to transform them into numerical form. Here are some common techniques for achieving this:\n",
    "\n",
    "1.One-Hot Encoding (Dummy Encoding): This technique creates binary columns for each category in a variable. Each category is represented by a separate column, and a value of 1 or 0 indicates the presence or absence of that category1. It’s widely used and suitable for nominal categorical variables (where categories have no inherent order).\n",
    "\n",
    "2.Label Encoding: Label encoding assigns a unique numerical value to each category in a variable. For instance, if you have three categories (e.g., ‘red,’ ‘green,’ and ‘blue’), they might be encoded as 0, 1, and 2, respectively1. However, be cautious when using label encoding for ordinal variables (where categories have a meaningful order), as it assumes equal intervals between values.\n",
    "\n",
    "3.Ordinal Encoding: This method combines aspects of label encoding and one-hot encoding. It assigns numeric values to categories based on their order or rank. For example, ‘low,’ ‘medium,’ and ‘high’ could be encoded as 0, 1, and 2, respectively1.\n",
    "\n",
    "4.Target Encoding: In target encoding, each category is replaced with the mean (or other statistical measure) of the target variable for that category. It’s useful when dealing with high-cardinality categorical features1.\n",
    "\n",
    "Choose the technique that best suits your data and the specific problem you’re solving. Remember that the choice depends on the nature of the categorical variable and the algorithm you plan to use. 😊📊"
   ]
  },
  {
   "cell_type": "code",
   "execution_count": 9,
   "id": "261e3343",
   "metadata": {},
   "outputs": [
    {
     "name": "stdout",
     "output_type": "stream",
     "text": [
      "[[0. 0. 0. ... 0. 1. 0.]\n",
      " [0. 0. 0. ... 0. 0. 0.]\n",
      " [0. 0. 0. ... 0. 0. 0.]\n",
      " ...\n",
      " [0. 0. 0. ... 0. 0. 0.]\n",
      " [0. 0. 0. ... 0. 0. 0.]\n",
      " [0. 0. 0. ... 0. 0. 0.]]\n",
      "0              Normal\n",
      "1        Inconclusive\n",
      "2              Normal\n",
      "3            Abnormal\n",
      "4            Abnormal\n",
      "             ...     \n",
      "55495        Abnormal\n",
      "55496          Normal\n",
      "55497        Abnormal\n",
      "55498        Abnormal\n",
      "55499        Abnormal\n",
      "Name: Test Results, Length: 55500, dtype: object\n"
     ]
    }
   ],
   "source": [
    "from sklearn.preprocessing import OneHotEncoder\n",
    "encoder = OneHotEncoder(sparse=False)\n",
    "X_encoded = encoder.fit_transform(x)\n",
    "print(X_encoded)\n",
    "print(y)"
   ]
  },
  {
   "cell_type": "code",
   "execution_count": 10,
   "id": "3e0572f8",
   "metadata": {},
   "outputs": [],
   "source": [
    "from sklearn.model_selection import train_test_split"
   ]
  },
  {
   "cell_type": "code",
   "execution_count": 11,
   "id": "c5e9839a",
   "metadata": {},
   "outputs": [],
   "source": [
    "X_train, X_test, y_train, y_test = train_test_split( X_encoded, y, test_size=0.3, random_state=7)"
   ]
  },
  {
   "cell_type": "code",
   "execution_count": 12,
   "id": "1dc79477",
   "metadata": {},
   "outputs": [
    {
     "data": {
      "text/plain": [
       "38018          Normal\n",
       "29803          Normal\n",
       "22557          Normal\n",
       "50705          Normal\n",
       "20277    Inconclusive\n",
       "             ...     \n",
       "919            Normal\n",
       "53459        Abnormal\n",
       "38467          Normal\n",
       "10742        Abnormal\n",
       "49689          Normal\n",
       "Name: Test Results, Length: 38850, dtype: object"
      ]
     },
     "execution_count": 12,
     "metadata": {},
     "output_type": "execute_result"
    }
   ],
   "source": [
    "y_train"
   ]
  },
  {
   "cell_type": "markdown",
   "id": "eabef354",
   "metadata": {},
   "source": [
    "## Scaling the data"
   ]
  },
  {
   "cell_type": "markdown",
   "id": "41b60cbc",
   "metadata": {},
   "source": [
    "Feature scaling is essential for several classification techniques. Let’s explore why and which methods benefit from scaling:\n",
    "\n",
    "1.Gradient Descent-Based Algorithms:\n",
    "\n",
    "-Algorithms like linear regression, logistic regression, neural networks, and PCA (principal component analysis) use gradient descent for optimization.\n",
    "\n",
    "-These algorithms require scaled data to converge efficiently and avoid issues related to different scales of features1.\n",
    "\n",
    "2.Distance-Based Methods:\n",
    "\n",
    "-Techniques that rely on distance measures (e.g., nearest neighbor classification and clustering) benefit from scaling.\n",
    "\n",
    "-Without scaling, features with larger scales can dominate the distance calculations, leading to biased results.\n",
    "\n",
    "3.Artificial Neural Networks (ANNs):\n",
    "\n",
    "-ANNs perform better when input data is normalized (scaled to a standard range).\n",
    "\n",
    "-Normalization ensures stable and faster learning during training2.\n",
    "\n",
    "4.Specific Techniques Requiring Scaling:\n",
    "\n",
    "-Linear regression: Scaled features prevent uneven influence on the model.\n",
    "\n",
    "-k-nearest neighbors (k-NN): Scaling ensures fair distance calculations.\n",
    "\n",
    "-Support vector machines (SVMs): SVMs are sensitive to feature scales.\n",
    "\n",
    "-Principal component analysis (PCA): PCA relies on covariance matrix, which benefits from scaled data.\n",
    "\n",
    "Remember to scale your features appropriately based on the specific classification technique you’re using! 📊🚀"
   ]
  },
  {
   "cell_type": "code",
   "execution_count": 13,
   "id": "97813950",
   "metadata": {},
   "outputs": [],
   "source": [
    "from sklearn.preprocessing import StandardScaler"
   ]
  },
  {
   "cell_type": "code",
   "execution_count": 14,
   "id": "b30dc2c6",
   "metadata": {},
   "outputs": [],
   "source": [
    "scaler = StandardScaler()"
   ]
  },
  {
   "cell_type": "code",
   "execution_count": 15,
   "id": "e997a14f",
   "metadata": {},
   "outputs": [],
   "source": [
    "X_train = scaler.fit_transform(X_train)\n",
    "X_test = scaler.transform(X_test)"
   ]
  },
  {
   "cell_type": "markdown",
   "id": "d64dd356",
   "metadata": {},
   "source": [
    "# Logistic Regression"
   ]
  },
  {
   "cell_type": "code",
   "execution_count": 16,
   "id": "f3da74b8",
   "metadata": {},
   "outputs": [],
   "source": [
    "from sklearn.linear_model import LogisticRegression"
   ]
  },
  {
   "cell_type": "code",
   "execution_count": 17,
   "id": "c0d954a1",
   "metadata": {},
   "outputs": [
    {
     "data": {
      "text/plain": [
       "LogisticRegression()"
      ]
     },
     "execution_count": 17,
     "metadata": {},
     "output_type": "execute_result"
    }
   ],
   "source": [
    "model = LogisticRegression()\n",
    "model.fit(X_train,y_train)"
   ]
  },
  {
   "cell_type": "code",
   "execution_count": 18,
   "id": "810cf6c4",
   "metadata": {},
   "outputs": [],
   "source": [
    "from sklearn.metrics import confusion_matrix,classification_report,accuracy_score"
   ]
  },
  {
   "cell_type": "code",
   "execution_count": 19,
   "id": "df2ce6e3",
   "metadata": {},
   "outputs": [
    {
     "name": "stdout",
     "output_type": "stream",
     "text": [
      "-------------------------------------------------------------------------\n",
      "The accuraccy score is: ------>>  0.3318918918918919\n",
      "-------------------------------------------------------------------------\n",
      "The Confusion Matrix is: ------>> \n",
      "[[2250 1371 1989]\n",
      " [2240 1315 1962]\n",
      " [2168 1394 1961]]\n",
      "-------------------------------------------------------------------------\n",
      "The Classification Report is: ---->>               precision    recall  f1-score   support\n",
      "\n",
      "    Abnormal       0.34      0.40      0.37      5610\n",
      "Inconclusive       0.32      0.24      0.27      5517\n",
      "      Normal       0.33      0.36      0.34      5523\n",
      "\n",
      "    accuracy                           0.33     16650\n",
      "   macro avg       0.33      0.33      0.33     16650\n",
      "weighted avg       0.33      0.33      0.33     16650\n",
      "\n"
     ]
    }
   ],
   "source": [
    "y_pred = model.predict(X_test)\n",
    "print(\"-------------------------------------------------------------------------\")\n",
    "print(f\"The accuraccy score is: ------>>  {accuracy_score(y_test,y_pred)}\")\n",
    "print(\"-------------------------------------------------------------------------\")\n",
    "print(f\"The Confusion Matrix is: ------>> \\n{confusion_matrix(y_test,y_pred)}\")\n",
    "print(\"-------------------------------------------------------------------------\")\n",
    "print(f\"The Classification Report is: ---->> {classification_report(y_test,y_pred)}\")"
   ]
  },
  {
   "cell_type": "markdown",
   "id": "ac1c799a",
   "metadata": {},
   "source": [
    "# KNN"
   ]
  },
  {
   "cell_type": "code",
   "execution_count": 20,
   "id": "6a3b2bb2",
   "metadata": {},
   "outputs": [],
   "source": [
    "from sklearn.neighbors import KNeighborsClassifier"
   ]
  },
  {
   "cell_type": "code",
   "execution_count": 21,
   "id": "c36ecba5",
   "metadata": {},
   "outputs": [
    {
     "data": {
      "text/plain": [
       "LogisticRegression()"
      ]
     },
     "execution_count": 21,
     "metadata": {},
     "output_type": "execute_result"
    }
   ],
   "source": [
    "knn_model = KNeighborsClassifier(n_neighbors=3)\n",
    "knn_model.fit(X_train, y_train)\n",
    "model.fit(X_train, y_train)"
   ]
  },
  {
   "cell_type": "code",
   "execution_count": 22,
   "id": "c24c47a4",
   "metadata": {},
   "outputs": [
    {
     "name": "stdout",
     "output_type": "stream",
     "text": [
      "Test Accuracy: 0.3318918918918919\n"
     ]
    }
   ],
   "source": [
    "y_pred = model.predict(X_test)\n",
    "print(\"Test Accuracy:\",accuracy_score(y_test,y_pred))"
   ]
  },
  {
   "cell_type": "code",
   "execution_count": 23,
   "id": "1bdba8df",
   "metadata": {},
   "outputs": [
    {
     "data": {
      "image/png": "[encoded data removed]",
      "text/plain": [
       "<Figure size 640x480 with 2 Axes>"
      ]
     },
     "metadata": {},
     "output_type": "display_data"
    }
   ],
   "source": [
    "# Modify the confusion matrix visualizationdefplot_confusion_matrix(y_test,y_pred):\n",
    "cm = confusion_matrix(y_test,y_pred)\n",
    "sns.heatmap(cm, annot=True, fmt='g')\n",
    "plt.xlabel('Predicted labels')\n",
    "plt.ylabel('True labels')\n",
    "plt.title('Confusion Matrix')\n",
    "plt.show()"
   ]
  },
  {
   "cell_type": "code",
   "execution_count": 24,
   "id": "2d6e7780",
   "metadata": {},
   "outputs": [
    {
     "name": "stdout",
     "output_type": "stream",
     "text": [
      "Test Accuracy: 0.3318918918918919\n",
      "              precision    recall  f1-score   support\n",
      "\n",
      "    Abnormal       0.34      0.40      0.37      5610\n",
      "Inconclusive       0.32      0.24      0.27      5517\n",
      "      Normal       0.33      0.36      0.34      5523\n",
      "\n",
      "    accuracy                           0.33     16650\n",
      "   macro avg       0.33      0.33      0.33     16650\n",
      "weighted avg       0.33      0.33      0.33     16650\n",
      "\n"
     ]
    }
   ],
   "source": [
    "def evaluate_model(model,X_test,y_test):\n",
    "    y_pred = model.predict(X_test)\n",
    "    print(\"Test Accuracy:\",accuracy_score(y_test,y_pred))\n",
    "    print(classification_report(y_test,y_pred))\n",
    "\n",
    "evaluate_model(model,X_test,y_test)"
   ]
  },
  {
   "cell_type": "markdown",
   "id": "cbd14d3e",
   "metadata": {},
   "source": [
    "# Decision Tree"
   ]
  },
  {
   "cell_type": "code",
   "execution_count": 25,
   "id": "aa41b7a2",
   "metadata": {},
   "outputs": [],
   "source": [
    "from sklearn.tree import DecisionTreeClassifier"
   ]
  },
  {
   "cell_type": "code",
   "execution_count": 26,
   "id": "338e9eb7",
   "metadata": {},
   "outputs": [
    {
     "data": {
      "text/plain": [
       "DecisionTreeClassifier()"
      ]
     },
     "execution_count": 26,
     "metadata": {},
     "output_type": "execute_result"
    }
   ],
   "source": [
    "Tree_model = DecisionTreeClassifier()\n",
    "Tree_model.fit(X_train,y_train)"
   ]
  },
  {
   "cell_type": "code",
   "execution_count": 28,
   "id": "57b1f053",
   "metadata": {},
   "outputs": [
    {
     "name": "stdout",
     "output_type": "stream",
     "text": [
      "-------------------------------------------------------------------------\n",
      "The accuraccy score is: ------>>  0.3398798798798799\n",
      "-------------------------------------------------------------------------\n",
      "The Confusion Matrix is: ------>> \n",
      "[[2121 1843 1646]\n",
      " [2001 1883 1633]\n",
      " [2031 1837 1655]]\n",
      "-------------------------------------------------------------------------\n",
      "The Classification Report is: ---->>               precision    recall  f1-score   support\n",
      "\n",
      "    Abnormal       0.34      0.38      0.36      5610\n",
      "Inconclusive       0.34      0.34      0.34      5517\n",
      "      Normal       0.34      0.30      0.32      5523\n",
      "\n",
      "    accuracy                           0.34     16650\n",
      "   macro avg       0.34      0.34      0.34     16650\n",
      "weighted avg       0.34      0.34      0.34     16650\n",
      "\n"
     ]
    }
   ],
   "source": [
    "y_pred = Tree_model.predict(X_test)\n",
    "print(\"-------------------------------------------------------------------------\")\n",
    "print(f\"The accuraccy score is: ------>>  {accuracy_score(y_test,y_pred)}\")\n",
    "print(\"-------------------------------------------------------------------------\")\n",
    "print(f\"The Confusion Matrix is: ------>> \\n{confusion_matrix(y_test,y_pred)}\")\n",
    "print(\"-------------------------------------------------------------------------\")\n",
    "print(f\"The Classification Report is: ---->> {classification_report(y_test,y_pred)}\")"
   ]
  },
  {
   "cell_type": "markdown",
   "id": "f7d9faac",
   "metadata": {},
   "source": [
    "# Random Forest "
   ]
  },
  {
   "cell_type": "code",
   "execution_count": 29,
   "id": "4c1f9481",
   "metadata": {},
   "outputs": [],
   "source": [
    "from sklearn.ensemble import RandomForestClassifier"
   ]
  },
  {
   "cell_type": "code",
   "execution_count": 30,
   "id": "f938a30e",
   "metadata": {},
   "outputs": [
    {
     "data": {
      "text/plain": [
       "RandomForestClassifier()"
      ]
     },
     "execution_count": 30,
     "metadata": {},
     "output_type": "execute_result"
    }
   ],
   "source": [
    "RF_model = RandomForestClassifier()\n",
    "RF_model.fit(X_train,y_train)"
   ]
  },
  {
   "cell_type": "code",
   "execution_count": 31,
   "id": "63e7182a",
   "metadata": {},
   "outputs": [
    {
     "name": "stdout",
     "output_type": "stream",
     "text": [
      "-------------------------------------------------------------------------\n",
      "The accuraccy score is: ------>>  0.33993993993993993\n",
      "-------------------------------------------------------------------------\n",
      "The Confusion Matrix is: ------>> \n",
      "[[1935 1845 1830]\n",
      " [1781 1833 1903]\n",
      " [1804 1827 1892]]\n",
      "-------------------------------------------------------------------------\n",
      "The Classification Report is: ---->>               precision    recall  f1-score   support\n",
      "\n",
      "    Abnormal       0.35      0.34      0.35      5610\n",
      "Inconclusive       0.33      0.33      0.33      5517\n",
      "      Normal       0.34      0.34      0.34      5523\n",
      "\n",
      "    accuracy                           0.34     16650\n",
      "   macro avg       0.34      0.34      0.34     16650\n",
      "weighted avg       0.34      0.34      0.34     16650\n",
      "\n"
     ]
    }
   ],
   "source": [
    "y_pred = RF_model.predict(X_test)\n",
    "print(\"-------------------------------------------------------------------------\")\n",
    "print(f\"The accuraccy score is: ------>>  {accuracy_score(y_test,y_pred)}\")\n",
    "print(\"-------------------------------------------------------------------------\")\n",
    "print(f\"The Confusion Matrix is: ------>> \\n{confusion_matrix(y_test,y_pred)}\")\n",
    "print(\"-------------------------------------------------------------------------\")\n",
    "print(f\"The Classification Report is: ---->> {classification_report(y_test,y_pred)}\")"
   ]
  }
 ],
 "metadata": {
  "kernelspec": {
   "display_name": "Python 3 (ipykernel)",
   "language": "python",
   "name": "python3"
  },
  "language_info": {
   "codemirror_mode": {
    "name": "ipython",
    "version": 3
   },
   "file_extension": ".py",
   "mimetype": "text/x-python",
   "name": "python",
   "nbconvert_exporter": "python",
   "pygments_lexer": "ipython3",
   "version": "3.9.13"
  }
 },
 "nbformat": 4,
 "nbformat_minor": 5
}
